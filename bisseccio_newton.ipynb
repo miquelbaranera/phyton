{
 "cells": [
  {
   "cell_type": "code",
   "execution_count": 44,
   "id": "022807d9-9dde-4750-948d-fac48f946e47",
   "metadata": {},
   "outputs": [
    {
     "data": {
      "text/html": [
       "<html>\\(\\displaystyle 1.41421365737915\\)</html>"
      ],
      "text/latex": [
       "$\\displaystyle 1.41421365737915$"
      ],
      "text/plain": [
       "1.41421365737915"
      ]
     },
     "metadata": {},
     "output_type": "display_data"
    }
   ],
   "source": [
    "def bisseccio(f,x0,x1,tolerancia=1e-6):\n",
    "    x0 = x0.n()\n",
    "    x1 = x1.n()\n",
    "    x2 = (x0 + x1)/2\n",
    "    y = f(x2)\n",
    "    while (abs(y) > tolerancia):\n",
    "        if (y > 0 and f(x0) > 0) or (y < 0 and f(x0) < 0): #si el de l'esquerra i el del mitj = signe\n",
    "            x0 = x2\n",
    "        elif (y > 0 and f(x1) > 0) or (y < 0 and f(x1) < 0): #si el de la dreta i el del mitj = signe\n",
    "            x1 = x2\n",
    "        x2 = (x0 + x1)/2\n",
    "        y = f(x2)\n",
    "    return x2\n",
    "f(x) = x^2-2\n",
    "sol = bisseccio(f,1,2)\n",
    "show(sol)"
   ]
  },
  {
   "cell_type": "code",
   "execution_count": 47,
   "id": "10bb7b0b-029a-47cc-a0b4-a9bad2e10bae",
   "metadata": {},
   "outputs": [
    {
     "data": {
      "text/html": [
       "<html>\\(\\displaystyle 1.41421356237469\\)</html>"
      ],
      "text/latex": [
       "$\\displaystyle 1.41421356237469$"
      ],
      "text/plain": [
       "1.41421356237469"
      ]
     },
     "metadata": {},
     "output_type": "display_data"
    }
   ],
   "source": [
    "def newton(f,x0, tolerancia=1e-6):\n",
    "    x0 = x0.n()\n",
    "    der = diff(f)\n",
    "    if der(x0)!=0:\n",
    "        x1 = x0 - f(x0)/der(x0)\n",
    "        y = f(x1)\n",
    "        while (abs(y) > tolerancia):\n",
    "            x1 = x0 - f(x0)/der(x0)\n",
    "            x0 = x1\n",
    "            y = f(x0)\n",
    "    else:\n",
    "        raise ValueError(\"Canvia de punt inicial\")\n",
    "    \n",
    "    return x0\n",
    "f(x) = x^2-2\n",
    "sol = newton(f,1)\n",
    "show(sol)"
   ]
  },
  {
   "cell_type": "code",
   "execution_count": null,
   "id": "307489d9-a7cb-4d9a-a4f3-c5bacce202fa",
   "metadata": {},
   "outputs": [],
   "source": []
  }
 ],
 "metadata": {
  "kernelspec": {
   "display_name": "SageMath 10.1",
   "language": "sage",
   "name": "sagemath-10.1"
  },
  "language_info": {
   "codemirror_mode": {
    "name": "ipython",
    "version": 3
   },
   "file_extension": ".py",
   "mimetype": "text/x-python",
   "name": "python",
   "nbconvert_exporter": "python",
   "pygments_lexer": "ipython3",
   "version": "3.11.1"
  }
 },
 "nbformat": 4,
 "nbformat_minor": 5
}
